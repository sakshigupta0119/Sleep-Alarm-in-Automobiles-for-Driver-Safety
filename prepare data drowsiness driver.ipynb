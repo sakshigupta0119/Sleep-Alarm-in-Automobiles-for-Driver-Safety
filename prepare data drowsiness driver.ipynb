{
 "cells": [
  {
   "cell_type": "code",
   "execution_count": 1,
   "id": "a9f8c404",
   "metadata": {},
   "outputs": [],
   "source": [
    "import os\n",
    "import glob\n",
    "import shutil\n",
    "import random\n",
    "from tqdm import tqdm"
   ]
  },
  {
   "cell_type": "code",
   "execution_count": 3,
   "id": "9b6fd6d7",
   "metadata": {},
   "outputs": [
    {
     "name": "stderr",
     "output_type": "stream",
     "text": [
      "0it [00:00, ?it/s]\n",
      "0it [00:00, ?it/s]\n",
      "0it [00:00, ?it/s]\n",
      "0it [00:00, ?it/s]\n",
      "100%|██████████████████████████████████████████████████████████████████████████████| 3242/3242 [03:36<00:00, 14.94it/s]\n",
      "100%|██████████████████████████████████████████████████████████████████████████████| 1114/1114 [01:02<00:00, 17.82it/s]\n",
      "100%|████████████████████████████████████████████████████████████████████████████████| 679/679 [01:08<00:00,  9.92it/s]\n",
      "100%|██████████████████████████████████████████████████████████████████████████████| 1069/1069 [00:49<00:00, 21.43it/s]\n",
      "100%|████████████████████████████████████████████████████████████████████████████████| 736/736 [00:44<00:00, 16.38it/s]\n",
      "100%|██████████████████████████████████████████████████████████████████████████████| 1012/1012 [00:44<00:00, 22.96it/s]\n",
      "100%|████████████████████████████████████████████████████████████████████████████████| 624/624 [00:20<00:00, 29.93it/s]\n",
      "100%|████████████████████████████████████████████████████████████████████████████████| 832/832 [00:26<00:00, 30.84it/s]\n",
      "100%|████████████████████████████████████████████████████████████████████████████████| 387/387 [00:09<00:00, 41.49it/s]\n",
      "100%|████████████████████████████████████████████████████████████████████████████████| 399/399 [00:16<00:00, 23.63it/s]\n",
      "100%|██████████████████████████████████████████████████████████████████████████████| 1648/1648 [01:16<00:00, 21.54it/s]\n",
      "100%|██████████████████████████████████████████████████████████████████████████████| 8728/8728 [05:25<00:00, 26.85it/s]\n",
      "100%|██████████████████████████████████████████████████████████████████████████████| 3605/3605 [02:05<00:00, 28.66it/s]\n",
      "100%|██████████████████████████████████████████████████████████████████████████████| 8884/8884 [05:48<00:00, 25.52it/s]\n",
      "100%|██████████████████████████████████████████████████████████████████████████████| 1132/1132 [00:41<00:00, 27.28it/s]\n",
      "100%|██████████████████████████████████████████████████████████████████████████████| 1889/1889 [01:22<00:00, 22.83it/s]\n",
      "100%|██████████████████████████████████████████████████████████████████████████████| 1648/1648 [01:14<00:00, 22.24it/s]\n",
      "100%|██████████████████████████████████████████████████████████████████████████████| 4410/4410 [04:17<00:00, 17.11it/s]\n",
      "100%|██████████████████████████████████████████████████████████████████████████████| 6175/6175 [03:22<00:00, 30.47it/s]\n",
      "100%|████████████████████████████████████████████████████████████████████████████████| 704/704 [00:24<00:00, 28.45it/s]\n",
      "100%|████████████████████████████████████████████████████████████████████████████████| 987/987 [00:47<00:00, 20.63it/s]\n",
      "100%|████████████████████████████████████████████████████████████████████████████████| 382/382 [00:12<00:00, 31.50it/s]\n",
      "100%|████████████████████████████████████████████████████████████████████████████████| 522/522 [00:28<00:00, 18.53it/s]\n",
      "100%|████████████████████████████████████████████████████████████████████████████████| 752/752 [00:20<00:00, 36.17it/s]\n",
      "100%|██████████████████████████████████████████████████████████████████████████████| 1502/1502 [00:38<00:00, 39.31it/s]\n",
      "100%|██████████████████████████████████████████████████████████████████████████████| 1246/1246 [00:34<00:00, 36.36it/s]\n",
      "100%|████████████████████████████████████████████████████████████████████████████████| 665/665 [00:25<00:00, 26.00it/s]\n",
      "100%|████████████████████████████████████████████████████████████████████████████████| 736/736 [00:18<00:00, 40.45it/s]\n",
      "100%|██████████████████████████████████████████████████████████████████████████████| 1393/1393 [00:39<00:00, 34.90it/s]\n",
      "100%|██████████████████████████████████████████████████████████████████████████████| 1384/1384 [01:12<00:00, 19.05it/s]\n",
      "100%|██████████████████████████████████████████████████████████████████████████████| 1738/1738 [00:58<00:00, 29.96it/s]\n",
      "100%|██████████████████████████████████████████████████████████████████████████████| 6162/6162 [04:01<00:00, 25.57it/s]\n",
      "100%|████████████████████████████████████████████████████████████████████████████████| 681/681 [00:31<00:00, 21.37it/s]\n",
      "100%|████████████████████████████████████████████████████████████████████████████████| 739/739 [00:24<00:00, 29.61it/s]\n",
      "100%|████████████████████████████████████████████████████████████████████████████████| 642/642 [00:20<00:00, 31.73it/s]\n",
      "100%|██████████████████████████████████████████████████████████████████████████████| 6193/6193 [03:51<00:00, 26.80it/s]\n",
      "100%|████████████████████████████████████████████████████████████████████████████| 10257/10257 [06:56<00:00, 24.62it/s]\n"
     ]
    }
   ],
   "source": [
    "raw_data = r'C:\\Users\\SAKSHI\\Downloads\\mrlEyes_2018_01\\mrlEyes_2018_01'\n",
    "for dirpath, dirname, filename in os.walk(raw_data):\n",
    "    for file in tqdm([f for f in filename if f.endswith('.png')]):\n",
    "        if file.split('_')[4] == '0':\n",
    "            path= r'C:\\Users\\SAKSHI\\Downloads\\mrlEyes_2018_01\\mrlEyes_2018_01\\prepared_Data\\close'\n",
    "            if not os.path.exists(path):\n",
    "                os.makedirs(path)\n",
    "            shutil.copy(src=dirpath + '/' + file, dst= path)\n",
    "        elif file.split('_')[4] == '1':\n",
    "            path= r'C:\\Users\\SAKSHI\\Downloads\\mrlEyes_2018_01\\mrlEyes_2018_01\\prepared_Data\\open'\n",
    "            if not os.path.exists(path):\n",
    "                os.makedirs(path)\n",
    "            shutil.copy(src=dirpath + '/' + file, dst= path)"
   ]
  },
  {
   "cell_type": "code",
   "execution_count": 2,
   "id": "0cdd41e6",
   "metadata": {},
   "outputs": [],
   "source": [
    "\n",
    "def create_test_closed(source, destination, percent):\n",
    "    '''\n",
    "    divides closed eyes images into given percent and moves from\n",
    "    source to destination.\n",
    "    \n",
    "    Arguments:\n",
    "    source(path): path of source directory\n",
    "    destination(path): path of destination directory\n",
    "    percent(float): percent of data to be divided(range: 0 to 1)\n",
    "    '''\n",
    "    path, dirs, files_closed = next(os.walk(source))\n",
    "    file_count_closed = len(files_closed)\n",
    "    percentage = file_count_closed * percent\n",
    "    to_move = random.sample(glob.glob(source + \"/*.png\"), int(percentage))\n",
    "\n",
    "    for f in enumerate(to_move):\n",
    "        if not os.path.exists(destination):\n",
    "            os.makedirs(destination)\n",
    "        shutil.move(f[1], destination)\n",
    "    print(f'moved {int(percentage)} images to the destination successfully.')"
   ]
  },
  {
   "cell_type": "code",
   "execution_count": 3,
   "id": "d36ac8bb",
   "metadata": {},
   "outputs": [],
   "source": [
    "def create_test_open(source, destination, percent):\n",
    "    '''\n",
    "    divides open eyes images into given percent and moves from\n",
    "    source to destination.\n",
    "    \n",
    "    Arguments:\n",
    "    source(path): path of source directory\n",
    "    destination(path): path of destination directory\n",
    "    percent(float): percent of data to be divided(range: 0 to 1)\n",
    "    '''\n",
    "    path, dirs, files_open = next(os.walk(source))\n",
    "    file_count_open = len(files_open)\n",
    "    percentage = file_count_open * percent\n",
    "    to_move = random.sample(glob.glob(source + \"/*.png\"), int(percentage))\n",
    "\n",
    "    for f in enumerate(to_move):\n",
    "        if not os.path.exists(destination):\n",
    "            os.makedirs(destination)\n",
    "        shutil.move(f[1], destination)\n",
    "    print(f'moved {int(percentage)} images to the destination successfully.')"
   ]
  },
  {
   "cell_type": "code",
   "execution_count": 4,
   "id": "fc84f8a1",
   "metadata": {},
   "outputs": [
    {
     "name": "stdout",
     "output_type": "stream",
     "text": [
      "moved 6872 images to the destination successfully.\n"
     ]
    }
   ],
   "source": [
    "create_test_open(r'C:\\Users\\SAKSHI\\Downloads\\mrlEyes_2018_01\\mrlEyes_2018_01\\prepared_Data\\open', \n",
    "                    r'C:\\Users\\SAKSHI\\Downloads\\mrlEyes_2018_01\\mrlEyes_2018_01\\prepared_Data\\test\\open', \n",
    "                    0.2)\n"
   ]
  },
  {
   "cell_type": "code",
   "execution_count": null,
   "id": "90cc903e",
   "metadata": {},
   "outputs": [],
   "source": [
    "create_test_closed(r'C:\\Users\\SAKSHI\\Downloads\\mrlEyes_2018_01\\mrlEyes_2018_01\\prepared_Data\\close', \n",
    "                    r'C:\\Users\\SAKSHI\\Downloads\\mrlEyes_2018_01\\mrlEyes_2018_01\\prepared_Data\\test\\close', \n",
    "                    0.2)"
   ]
  },
  {
   "cell_type": "code",
   "execution_count": null,
   "id": "c15edf2a",
   "metadata": {},
   "outputs": [],
   "source": []
  }
 ],
 "metadata": {
  "kernelspec": {
   "display_name": "Python 3",
   "language": "python",
   "name": "python3"
  },
  "language_info": {
   "codemirror_mode": {
    "name": "ipython",
    "version": 3
   },
   "file_extension": ".py",
   "mimetype": "text/x-python",
   "name": "python",
   "nbconvert_exporter": "python",
   "pygments_lexer": "ipython3",
   "version": "3.9.0"
  }
 },
 "nbformat": 4,
 "nbformat_minor": 5
}
